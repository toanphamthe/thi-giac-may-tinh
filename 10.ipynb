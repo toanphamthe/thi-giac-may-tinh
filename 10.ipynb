{
 "cells": [
  {
   "cell_type": "code",
   "execution_count": 1,
   "id": "fcdb1b51-c179-42b1-9246-14732d9ada2a",
   "metadata": {},
   "outputs": [],
   "source": [
    "from PIL import Image\n",
    "import matplotlib.pyplot as plt"
   ]
  },
  {
   "cell_type": "code",
   "execution_count": 2,
   "id": "9a00ddcc-3bff-4811-b3af-f35495540c28",
   "metadata": {},
   "outputs": [],
   "source": [
    "image_path = 'C:/Users/DevG/OneDrive/Documents/Thi Giac May Tinh/Image/01/01.jpg'\n",
    "im = Image.open(image_path)"
   ]
  },
  {
   "cell_type": "code",
   "execution_count": 5,
   "id": "e0657e01-e188-4c4c-8b57-75a26f095b2b",
   "metadata": {},
   "outputs": [],
   "source": [
    "plt.switch_backend('tkagg')"
   ]
  },
  {
   "cell_type": "code",
   "execution_count": 7,
   "id": "dcbf06e0-de32-4146-831a-15ee66c441b6",
   "metadata": {},
   "outputs": [
    {
     "data": {
      "text/plain": [
       "Text(0.5, 1.0, 'Click on the image to select points')"
      ]
     },
     "execution_count": 7,
     "metadata": {},
     "output_type": "execute_result"
    }
   ],
   "source": [
    "plt.imshow(im)\n",
    "plt.title('Click on the image to select points')"
   ]
  },
  {
   "cell_type": "code",
   "execution_count": 9,
   "id": "2850e3f0-54f4-4a17-9b1a-dc5697a4349c",
   "metadata": {},
   "outputs": [
    {
     "name": "stdout",
     "output_type": "stream",
     "text": [
      "[(459.2732683982683, 99.3414502164502), (122.67424242424238, 122.1066017316017), (199.10010822510822, 302.6017316017316), (225.11742424242425, 434.31439393939394), (394.22997835497836, 366.0189393939394)]\n"
     ]
    }
   ],
   "source": [
    "points = plt.ginput(5)\n",
    "print(points)\n",
    "plt.show()"
   ]
  },
  {
   "cell_type": "code",
   "execution_count": 11,
   "id": "cd584f64-7865-4fbd-a981-216c0b8878d8",
   "metadata": {},
   "outputs": [],
   "source": [
    "plt.close()\n",
    "plt.imshow(im)\n",
    "for point in points:\n",
    "    x, y = point\n",
    "    plt.plot(x,y, 'r*')\n",
    "\n",
    "plt.show()"
   ]
  },
  {
   "cell_type": "code",
   "execution_count": null,
   "id": "a302f796-0da5-4940-bda1-cf795580ca99",
   "metadata": {},
   "outputs": [],
   "source": []
  }
 ],
 "metadata": {
  "kernelspec": {
   "display_name": "Python 3 (ipykernel)",
   "language": "python",
   "name": "python3"
  },
  "language_info": {
   "codemirror_mode": {
    "name": "ipython",
    "version": 3
   },
   "file_extension": ".py",
   "mimetype": "text/x-python",
   "name": "python",
   "nbconvert_exporter": "python",
   "pygments_lexer": "ipython3",
   "version": "3.12.4"
  }
 },
 "nbformat": 4,
 "nbformat_minor": 5
}
