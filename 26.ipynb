{
 "cells": [
  {
   "cell_type": "code",
   "execution_count": 1,
   "id": "3a4e3233-d5b2-48c8-aabd-4affbef43632",
   "metadata": {},
   "outputs": [],
   "source": [
    "import cv2\n",
    "import time"
   ]
  },
  {
   "cell_type": "code",
   "execution_count": 3,
   "id": "2df0e81a-553d-485a-abb2-da850253fe52",
   "metadata": {},
   "outputs": [],
   "source": [
    "def display(title, img):\n",
    "    cv2.imshow(title, img)\n",
    "    # Chờ một khoảng thời gian\n",
    "    cv2.waitKey(0)\n",
    "    # Đóng window\n",
    "    cv2.destroyWindow(title)"
   ]
  },
  {
   "cell_type": "code",
   "execution_count": 12,
   "id": "e205abea-2de8-4e02-9c15-63e27eeffdd4",
   "metadata": {},
   "outputs": [],
   "source": [
    "def detect(img):\n",
    "    # Khởi tạo Haar Cascade Classifier cho nhân diện khuôn mặt\n",
    "    face_cascade = cv2.CascadeClassifier('./haarcascade/haarcascade_frontalface_default.xml')\n",
    "    eye_cascade = cv2.CascadeClassifier('./haarcascade/haarcascade_eye_tree_eyeglasses.xml')\n",
    "    # Chuyển sang ảnh xám\n",
    "    gray = cv2.cvtColor(img, cv2.COLOR_BGR2GRAY)\n",
    "    # Nhận diện khuôn mặt\n",
    "    faces = face_cascade.detectMultiScale(gray, scaleFactor=1.1, minNeighbors=5, minSize=(30,30))\n",
    "    # Nhận diện mắt\n",
    "    eyes = eye_cascade.detectMultiScale(gray, scaleFactor=1.1, minNeighbors=1, minSize=(5,5))\n",
    "    # Vẽ hộp chứa khuôn mặt\n",
    "    for (x, y, w, h) in faces:\n",
    "        cv2.rectangle(img, (x, y), (x+w, y+h), (0, 255,0), 2)\n",
    "    # Vẽ hộp chứa khuôn mặt\n",
    "    for (x, y, w, h) in eyes:\n",
    "        cv2.rectangle(img, (x, y), (x+w, y+h), (255, 0,0), 2)\n",
    "    # Trả về ảnh\n",
    "    return img"
   ]
  },
  {
   "cell_type": "code",
   "execution_count": 14,
   "id": "182ff741-3cb5-4fab-a248-e60fba9d4bf4",
   "metadata": {},
   "outputs": [],
   "source": [
    "# Đọc video từ file\n",
    "camera = cv2.VideoCapture(0)\n",
    "# Tạo cửa sổ để hiển thị\n",
    "cv2.namedWindow('Video Player', cv2.WINDOW_NORMAL)\n",
    "# Ghi text trên hình ảnh\n",
    "font = cv2.FONT_HERSHEY_SIMPLEX\n",
    "font_color = (255, 255, 255)\n",
    "font_scale = 1\n",
    "font_thicknes = 2\n",
    "# Hiển thị từng khung ảnh\n",
    "while True:\n",
    "    # Thời gian trước khi đọc\n",
    "    start_time = time.time()\n",
    "    # Đọc 1 frame\n",
    "    ret, frame = camera.read()\n",
    "    # Thoát khi không thể đọc được frame\n",
    "    if not ret:\n",
    "        break\n",
    "    # Thời gian trước khi đọc\n",
    "    end_time = time.time()    \n",
    "    # Tình FPS:\n",
    "    fps = 1/(end_time-start_time)\n",
    "    # Detect\n",
    "    frame = detect(frame)\n",
    "    # Ghi số lượng fps\n",
    "    cv2.putText(frame, f'FPS: {fps:.2f}', (100, 100), font, font_scale, font_color , font_thicknes)\n",
    "    # Hiển thị\n",
    "    cv2.imshow('Video Player', frame)\n",
    "    if(cv2.waitKey(10)==ord('q')):\n",
    "        break"
   ]
  },
  {
   "cell_type": "code",
   "execution_count": 9,
   "id": "79248b66-38b2-4f18-ad0d-a1add0d79cef",
   "metadata": {},
   "outputs": [],
   "source": [
    "# Hủy bỏ player\n",
    "camera.release()\n",
    "cv2.destroyAllWindows()"
   ]
  }
 ],
 "metadata": {
  "kernelspec": {
   "display_name": "Python 3 (ipykernel)",
   "language": "python",
   "name": "python3"
  },
  "language_info": {
   "codemirror_mode": {
    "name": "ipython",
    "version": 3
   },
   "file_extension": ".py",
   "mimetype": "text/x-python",
   "name": "python",
   "nbconvert_exporter": "python",
   "pygments_lexer": "ipython3",
   "version": "3.12.4"
  }
 },
 "nbformat": 4,
 "nbformat_minor": 5
}
