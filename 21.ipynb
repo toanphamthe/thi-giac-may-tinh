{
 "cells": [
  {
   "cell_type": "code",
   "execution_count": 3,
   "id": "a7859353-adf4-47f5-9c74-5cd777f12cd4",
   "metadata": {},
   "outputs": [],
   "source": [
    "import cv2"
   ]
  },
  {
   "cell_type": "code",
   "execution_count": 13,
   "id": "73b131d6-73c1-4808-874e-b665cc2d70c2",
   "metadata": {},
   "outputs": [],
   "source": [
    "my_video = cv2.VideoCapture('./Video/01.mp4')"
   ]
  },
  {
   "cell_type": "code",
   "execution_count": 15,
   "id": "aa8131af-54ad-4508-89d7-6ce73a6f1db1",
   "metadata": {},
   "outputs": [],
   "source": [
    "cv2.namedWindow('Video Player', cv2.WINDOW_NORMAL)"
   ]
  },
  {
   "cell_type": "code",
   "execution_count": 17,
   "id": "ae44db75-2a10-4867-9432-9c0bbcea5eba",
   "metadata": {},
   "outputs": [],
   "source": [
    "while True:\n",
    "    ret, frame = my_video.read()\n",
    "    if not ret:\n",
    "        break\n",
    "    cv2.imshow('Video Player', frame)\n",
    "    if(cv2.waitKey(10)==ord('q')):\n",
    "        break"
   ]
  },
  {
   "cell_type": "code",
   "execution_count": 18,
   "id": "b818ab9b-f1cf-4712-9fdf-9bf50c05c18d",
   "metadata": {},
   "outputs": [],
   "source": [
    "my_video.release\n",
    "cv2.destroyAllWindows()"
   ]
  }
 ],
 "metadata": {
  "kernelspec": {
   "display_name": "Python 3 (ipykernel)",
   "language": "python",
   "name": "python3"
  },
  "language_info": {
   "codemirror_mode": {
    "name": "ipython",
    "version": 3
   },
   "file_extension": ".py",
   "mimetype": "text/x-python",
   "name": "python",
   "nbconvert_exporter": "python",
   "pygments_lexer": "ipython3",
   "version": "3.12.4"
  }
 },
 "nbformat": 4,
 "nbformat_minor": 5
}
